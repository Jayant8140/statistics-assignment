{
  "nbformat": 4,
  "nbformat_minor": 0,
  "metadata": {
    "colab": {
      "provenance": [],
      "authorship_tag": "ABX9TyNV0yHzj9ekIFYgwGgczCv4",
      "include_colab_link": true
    },
    "kernelspec": {
      "name": "python3",
      "display_name": "Python 3"
    },
    "language_info": {
      "name": "python"
    }
  },
  "cells": [
    {
      "cell_type": "markdown",
      "metadata": {
        "id": "view-in-github",
        "colab_type": "text"
      },
      "source": [
        "<a href=\"https://colab.research.google.com/github/Jayant8140/statistics-assignment/blob/main/statistics_assignment.ipynb\" target=\"_parent\"><img src=\"https://colab.research.google.com/assets/colab-badge.svg\" alt=\"Open In Colab\"/></a>"
      ]
    },
    {
      "cell_type": "markdown",
      "source": [
        " 1Generate a list of 100 integers containing values between 90 to 130 and store it in the variable `int_list`.\n",
        "\n",
        "\n",
        "After generating the list, find the following:\n",
        "\n",
        "\n",
        " (i) Write a Python function to calculate the mean of a given list of numbers.\n",
        "Create a function to find the median of a list of numbers.\n",
        "\n",
        "\n",
        " (ii) Develop a program to compute the mode of a list of integers.\n",
        "\n",
        "\n",
        " (iii) Implement a function to calculate the weighted mean of a list of values and their corresponding weights.\n",
        "\n",
        "\n",
        " (iv) Write a Python function to find the geometric mean of a list of positive numbers.\n",
        "\n",
        "\n",
        " (v) Create a program to calculate the harmonic mean of a list of values.\n",
        "\n",
        "\n",
        " (vi) Build a function to determine the midrange of a list of numbers (average of the minimum and maximum).\n",
        "\n",
        "\n",
        " (vii) Implement a Python program to find the trimmed mean of a list, excluding a certain percentage of\n",
        "outliers."
      ],
      "metadata": {
        "id": "5zp8HW_kUj8t"
      }
    },
    {
      "cell_type": "code",
      "execution_count": null,
      "metadata": {
        "id": "W9rqmbbnUQEE"
      },
      "outputs": [],
      "source": [
        "import random\n",
        "import numpy as np\n",
        "\n"
      ]
    },
    {
      "cell_type": "code",
      "source": [
        "int_list=np.random.randint(90,130,100)"
      ],
      "metadata": {
        "id": "i85UC8KhVi0j"
      },
      "execution_count": null,
      "outputs": []
    },
    {
      "cell_type": "code",
      "source": [
        "int_list"
      ],
      "metadata": {
        "colab": {
          "base_uri": "https://localhost:8080/"
        },
        "id": "NE21HtAkWeVB",
        "outputId": "da517741-18d8-4954-90a7-ebeb74759e1f"
      },
      "execution_count": null,
      "outputs": [
        {
          "output_type": "execute_result",
          "data": {
            "text/plain": [
              "array([110, 116, 116, 128,  94,  94, 107, 101, 115, 104, 125,  90,  97,\n",
              "        92, 104,  95,  92, 122,  93, 118,  99, 100, 102, 103, 115, 116,\n",
              "       112,  90, 129,  98,  91, 123, 129, 121, 124,  91, 117, 106, 114,\n",
              "       129,  92, 107, 107, 107, 111, 101, 109, 100, 114, 100,  92, 118,\n",
              "       108, 105, 108,  99, 126, 112,  90, 120,  96, 112, 110, 108, 102,\n",
              "        98, 102, 115, 109,  95, 128, 127, 112, 129, 110,  98, 112, 121,\n",
              "        96, 127, 120, 106,  92, 120, 120, 111, 128, 120, 124,  97, 118,\n",
              "       114, 108, 123, 100, 112, 101, 116, 120, 105])"
            ]
          },
          "metadata": {},
          "execution_count": 4
        }
      ]
    },
    {
      "cell_type": "code",
      "source": [
        "#(i) Write a Python function to calculate the mean of a given list of numbers. Create a function to find the median of a list of numbers."
      ],
      "metadata": {
        "id": "nHDpKkusWgTD"
      },
      "execution_count": null,
      "outputs": []
    },
    {
      "cell_type": "code",
      "source": [
        "def calculate_mean(numbers):\n",
        "  return sum(numbers)/len(numbers)\n",
        "def calculate_median(numbers):\n",
        "  numbers.sort()\n",
        "  n=len(numbers)\n",
        "  if n%2==0:\n",
        "    median=(numbers[n//2-1]+numbers[n//2])/2\n",
        "  else:\n",
        "    median=numbers[n//2]\n",
        "  return median\n"
      ],
      "metadata": {
        "id": "l06QMjJvWnox"
      },
      "execution_count": null,
      "outputs": []
    },
    {
      "cell_type": "code",
      "source": [
        "mean=calculate_mean(int_list)"
      ],
      "metadata": {
        "id": "2go-D1bRYELu"
      },
      "execution_count": null,
      "outputs": []
    },
    {
      "cell_type": "code",
      "source": [
        "mean"
      ],
      "metadata": {
        "colab": {
          "base_uri": "https://localhost:8080/"
        },
        "id": "EHgG5WPbYIQH",
        "outputId": "7f04ac08-2dcf-4c98-fee1-533396c8134f"
      },
      "execution_count": null,
      "outputs": [
        {
          "output_type": "execute_result",
          "data": {
            "text/plain": [
              "109.1"
            ]
          },
          "metadata": {},
          "execution_count": 9
        }
      ]
    },
    {
      "cell_type": "code",
      "source": [
        "median=calculate_median(int_list)"
      ],
      "metadata": {
        "id": "aX6NNopyYKAj"
      },
      "execution_count": null,
      "outputs": []
    },
    {
      "cell_type": "code",
      "source": [
        "median"
      ],
      "metadata": {
        "colab": {
          "base_uri": "https://localhost:8080/"
        },
        "id": "lH5I6Xq6YODP",
        "outputId": "3b8b05b5-5010-453b-80c9-96489fba474d"
      },
      "execution_count": null,
      "outputs": [
        {
          "output_type": "execute_result",
          "data": {
            "text/plain": [
              "109.0"
            ]
          },
          "metadata": {},
          "execution_count": 12
        }
      ]
    },
    {
      "cell_type": "code",
      "source": [
        "#(ii) Develop a program to compute the mode of a list of integers."
      ],
      "metadata": {
        "id": "-Tgk2-gZYQP3"
      },
      "execution_count": null,
      "outputs": []
    },
    {
      "cell_type": "code",
      "source": [
        "from collections import Counter"
      ],
      "metadata": {
        "id": "eWqdafGSaEUv"
      },
      "execution_count": null,
      "outputs": []
    },
    {
      "cell_type": "code",
      "source": [
        "def calculate_mode(numbers):\n",
        "    data=Counter(numbers)\n",
        "    mode=data.most_common(1)\n",
        "    return mode[0][0]\n",
        "\n"
      ],
      "metadata": {
        "id": "QP50pvRhZ-Td"
      },
      "execution_count": null,
      "outputs": []
    },
    {
      "cell_type": "code",
      "source": [
        "mode=calculate_mode(int_list)"
      ],
      "metadata": {
        "id": "YzSDFZ4EZylO"
      },
      "execution_count": null,
      "outputs": []
    },
    {
      "cell_type": "code",
      "source": [
        "mode"
      ],
      "metadata": {
        "colab": {
          "base_uri": "https://localhost:8080/"
        },
        "id": "Y2LPlgWnab_T",
        "outputId": "bd24ef1b-7f6b-4ea4-fabb-f9ebfdf57397"
      },
      "execution_count": null,
      "outputs": [
        {
          "output_type": "execute_result",
          "data": {
            "text/plain": [
              "112"
            ]
          },
          "metadata": {},
          "execution_count": 27
        }
      ]
    },
    {
      "cell_type": "code",
      "source": [
        "#(iii) Implement a function to calculate the weighted mean of a list of values and their corresponding weights."
      ],
      "metadata": {
        "id": "VcYC4bi1adSK"
      },
      "execution_count": null,
      "outputs": []
    },
    {
      "cell_type": "code",
      "source": [
        "def calculate_weighted_mean(values,weights):\n",
        "  numerator=sum(value * weight for value,weight in zip(values,weights))\n",
        "  denominator=sum(weights)\n",
        "  return numerator/denominator"
      ],
      "metadata": {
        "id": "ABBjmTK2bUiN"
      },
      "execution_count": null,
      "outputs": []
    },
    {
      "cell_type": "code",
      "source": [
        "values = [10, 20, 30, 40, 50]\n",
        "weights = [0.1, 0.2, 0.3, 0.2, 0.2]\n",
        "weighted_mean = calculate_weighted_mean(values, weights)\n",
        "weighted_mean"
      ],
      "metadata": {
        "colab": {
          "base_uri": "https://localhost:8080/"
        },
        "id": "bOGTjO1xb36Y",
        "outputId": "ba1bab71-fc80-4626-e659-a984c0befc8b"
      },
      "execution_count": null,
      "outputs": [
        {
          "output_type": "execute_result",
          "data": {
            "text/plain": [
              "32.0"
            ]
          },
          "metadata": {},
          "execution_count": 29
        }
      ]
    },
    {
      "cell_type": "code",
      "source": [
        "#(iv) Write a Python function to find the geometric mean of a list of positive numbers."
      ],
      "metadata": {
        "id": "32te5Z_Vb8mC"
      },
      "execution_count": null,
      "outputs": []
    },
    {
      "cell_type": "code",
      "source": [
        "import numpy as np"
      ],
      "metadata": {
        "id": "X0kqfKMccB5z"
      },
      "execution_count": null,
      "outputs": []
    },
    {
      "cell_type": "code",
      "source": [
        "def geomatric_mean(numbers):\n",
        "  numbers_array=np.array(numbers)\n",
        "  geomatric_mean=numbers_array.prod()**(1.0/len(numbers_array))\n",
        "  return geomatric_mean"
      ],
      "metadata": {
        "id": "e1E788rbfb5d"
      },
      "execution_count": null,
      "outputs": []
    },
    {
      "cell_type": "code",
      "source": [
        "numbers=[1,2,3,4,5,6]\n",
        "mean=geomatric_mean(numbers)\n",
        "mean"
      ],
      "metadata": {
        "colab": {
          "base_uri": "https://localhost:8080/"
        },
        "id": "Ot7WUxSngJc-",
        "outputId": "2f345b11-480e-4b8c-a617-f24f9bbf9102"
      },
      "execution_count": null,
      "outputs": [
        {
          "output_type": "execute_result",
          "data": {
            "text/plain": [
              "2.993795165523909"
            ]
          },
          "metadata": {},
          "execution_count": 10
        }
      ]
    },
    {
      "cell_type": "markdown",
      "source": [
        "(v) Create a program to calculate the harmonic mean of a list of values."
      ],
      "metadata": {
        "id": "Kemm6KZXgtNo"
      }
    },
    {
      "cell_type": "code",
      "source": [
        "import statistics"
      ],
      "metadata": {
        "id": "_ucDnHjlgs57"
      },
      "execution_count": null,
      "outputs": []
    },
    {
      "cell_type": "code",
      "source": [
        "def harmonic_mean(numbers):\n",
        "  return statistics.harmonic_mean(numbers)"
      ],
      "metadata": {
        "id": "DKrHV_KbgZby"
      },
      "execution_count": null,
      "outputs": []
    },
    {
      "cell_type": "code",
      "source": [
        "numbers=[1,2,3,4,5,6]\n",
        "mean=harmonic_mean(numbers)\n",
        "mean"
      ],
      "metadata": {
        "colab": {
          "base_uri": "https://localhost:8080/"
        },
        "id": "1tzmti-whINi",
        "outputId": "03090759-cc9d-471c-a89c-7a2254195ea5"
      },
      "execution_count": null,
      "outputs": [
        {
          "output_type": "execute_result",
          "data": {
            "text/plain": [
              "2.4489795918367347"
            ]
          },
          "metadata": {},
          "execution_count": 13
        }
      ]
    },
    {
      "cell_type": "markdown",
      "source": [
        " (vi) Build a function to determine the midrange of a list of numbers (average of the minimum and maximum)."
      ],
      "metadata": {
        "id": "NhCRuL3fhPwz"
      }
    },
    {
      "cell_type": "code",
      "source": [
        "def midrange(numbers):\n",
        "  minimum=min(numbers)\n",
        "  maximum=max(numbers)\n",
        "  midrange=(minimum+maximum)/2\n",
        "  return midrange"
      ],
      "metadata": {
        "id": "uzSO6NswhMXb"
      },
      "execution_count": null,
      "outputs": []
    },
    {
      "cell_type": "code",
      "source": [
        "numbers=[1,2,3,4,5,6]\n",
        "mid=midrange(numbers)\n",
        "mid\n"
      ],
      "metadata": {
        "colab": {
          "base_uri": "https://localhost:8080/"
        },
        "id": "LO9tWgf8hl9K",
        "outputId": "1a66e76f-dfad-447f-f170-027b933f3402"
      },
      "execution_count": null,
      "outputs": [
        {
          "output_type": "execute_result",
          "data": {
            "text/plain": [
              "3.5"
            ]
          },
          "metadata": {},
          "execution_count": 16
        }
      ]
    },
    {
      "cell_type": "markdown",
      "source": [
        "(vii) Implement a Python program to find the trimmed mean of a list, excluding a certain percentage of\n",
        "outliers."
      ],
      "metadata": {
        "id": "nSgXXUIUhuLz"
      }
    },
    {
      "cell_type": "code",
      "source": [
        "def calculate_trimmed_mean(numbers,percentage):\n",
        "  sorted_numbers=sorted(numbers)\n",
        "  no_of_element_to_trim=int(len(numbers)*(percentage/100))\n",
        "  trimmed_numbers=sorted_numbers[no_of_element_to_trim:-no_of_element_to_trim]\n",
        "  trimmed_mean=np.mean(trimmed_numbers)\n",
        "  return trimmed_mean"
      ],
      "metadata": {
        "id": "8ZK2vsaLhpGm"
      },
      "execution_count": null,
      "outputs": []
    },
    {
      "cell_type": "code",
      "source": [
        "numbers = [1, 2, 3, 4, 5, 6, 7, 8, 9, 10, 100, 200]\n",
        "percentage = 20  # Exclude 20% of outliers from both ends\n",
        "calculate_trimmed_mean(numbers, percentage)\n",
        "\n"
      ],
      "metadata": {
        "colab": {
          "base_uri": "https://localhost:8080/"
        },
        "id": "04AD21POjSz5",
        "outputId": "3b57fc35-8a1a-41a2-9f35-274938271ada"
      },
      "execution_count": null,
      "outputs": [
        {
          "output_type": "execute_result",
          "data": {
            "text/plain": [
              "6.5"
            ]
          },
          "metadata": {},
          "execution_count": 30
        }
      ]
    },
    {
      "cell_type": "markdown",
      "source": [
        "2. Generate a list of 500 integers containing values between 200 to 300 and store it in the variable `int_list2`.\n",
        "After generating the list, find the following:\n",
        "\n",
        "\n",
        " (i) Compare the given list of visualization for the given data:\n",
        "\n",
        "\n",
        " 1. Frequency & Gaussian distribution\n",
        "\n",
        "\n",
        " 2. Frequency smoothened KDE plot\n",
        "\n",
        "\n",
        " 3. Gaussian distribution & smoothened KDE plot\n",
        "\n",
        "\n",
        " (ii) Write a Python function to calculate the range of a given list of numbers.\n",
        "\n",
        "\n",
        " (iii) Create a program to find the variance and standard deviation of a list of numbers.\n",
        "\n",
        "\n",
        " (iv) Implement a function to compute the interquartile range (IQR) of a list of values.\n",
        "\n",
        "\n",
        " (v) Build a program to calculate the coefficient of variation for a dataset.\n",
        "\n",
        "\n",
        "\n",
        " (vi) Write a Python function to find the mean absolute deviation (MAD) of a list of numbers.\n",
        "\n",
        "\n",
        " (vii) Create a program to calculate the quartile deviation of a list of values.\n",
        "\n",
        "\n",
        " (viii) Implement a function to find the range-based coefficient of dispersion for a dataset"
      ],
      "metadata": {
        "id": "FfKWIXhvk-H1"
      }
    },
    {
      "cell_type": "code",
      "source": [
        "int_list2=np.random.randint(200,301,500)"
      ],
      "metadata": {
        "id": "Y-PZd07dkfvu"
      },
      "execution_count": null,
      "outputs": []
    },
    {
      "cell_type": "markdown",
      "source": [
        "(i) Compare the given list of visualization for the given data:\n",
        "\n",
        "Frequency & Gaussian distribution\n",
        "\n",
        "\n",
        "Frequency smoothened KDE plot\n",
        "\n",
        "\n",
        "Gaussian distribution & smoothened KDE plot"
      ],
      "metadata": {
        "id": "-UA8PewdnZUA"
      }
    },
    {
      "cell_type": "code",
      "source": [
        "#frsquency & gaussian dsitribution\n",
        "import matplotlib.pyplot as plt\n",
        "import seaborn as sns\n",
        "import scipy.stats as stats"
      ],
      "metadata": {
        "id": "EdkQ288pmx1j"
      },
      "execution_count": null,
      "outputs": []
    },
    {
      "cell_type": "code",
      "source": [
        "plt.hist(int_list2, bins=20, density=True, alpha=0.5, label='Frequency')\n",
        "xmin, xmax = plt.xlim()\n",
        "x = np.linspace(xmin, xmax, 100)\n",
        "p = stats.norm.pdf(x, np.mean(int_list2), np.std(int_list2))\n",
        "plt.plot(x, p, 'k', linewidth=2, label='Gaussian Distribution')\n",
        "plt.legend()\n",
        "plt.title('Frequency & Gaussian Distribution')\n",
        "plt.show()"
      ],
      "metadata": {
        "colab": {
          "base_uri": "https://localhost:8080/",
          "height": 452
        },
        "id": "2kCJoqqZnmp1",
        "outputId": "299f1f72-488b-435c-87e9-9391274b2e4d"
      },
      "execution_count": null,
      "outputs": [
        {
          "output_type": "display_data",
          "data": {
            "text/plain": [
              "<Figure size 640x480 with 1 Axes>"
            ],
            "image/png": "[encoded data removed]"
          },
          "metadata": {}
        }
      ]
    },
    {
      "cell_type": "markdown",
      "source": [
        "Frequency smoothened KDE plot"
      ],
      "metadata": {
        "id": "Cbw3VKSmpEnw"
      }
    },
    {
      "cell_type": "code",
      "source": [
        "sns.histplot(int_list2, kde=True, stat=\"density\", linewidth=0)\n",
        "plt.title('Frequency with KDE Smoothing')\n",
        "plt.xlabel('Value')\n",
        "plt.ylabel('Density')\n",
        "plt.show()"
      ],
      "metadata": {
        "colab": {
          "base_uri": "https://localhost:8080/",
          "height": 472
        },
        "id": "z_VoWFFOnqKJ",
        "outputId": "4fdcd012-6cb6-4955-b2ee-0d8d2a3908ee"
      },
      "execution_count": null,
      "outputs": [
        {
          "output_type": "display_data",
          "data": {
            "text/plain": [
              "<Figure size 640x480 with 1 Axes>"
            ],
            "image/png": "[encoded data removed]"
          },
          "metadata": {}
        }
      ]
    },
    {
      "cell_type": "markdown",
      "source": [
        "Gaussian distribution & smoothened KDE plot"
      ],
      "metadata": {
        "id": "G5yBFANZpqBq"
      }
    },
    {
      "cell_type": "code",
      "source": [
        "xmin,xmax=plt.xlim()\n",
        "x=np.linspace(xmin,xmax,100)\n",
        "p=stats.norm.pdf(x,np.mean(int_list2),np.std(int_list2))\n",
        "plt.plot(x,p,'k',linewidth=2,label='gaussion dostribution')\n",
        "sns.kdeplot(int_list2,label='KDE')\n",
        "plt.legend()\n",
        "plt.title('Gaussian Distribution & Smoothened KDE Plot')\n",
        "plt.xlabel('value')\n",
        "plt.ylabel('density')\n",
        "plt.show()\n"
      ],
      "metadata": {
        "colab": {
          "base_uri": "https://localhost:8080/",
          "height": 472
        },
        "id": "HRqVwMwdpd2x",
        "outputId": "31e2e40e-4431-452d-8dcf-ec4044ab1b72"
      },
      "execution_count": null,
      "outputs": [
        {
          "output_type": "display_data",
          "data": {
            "text/plain": [
              "<Figure size 640x480 with 1 Axes>"
            ],
            "image/png": "[encoded data removed]"
          },
          "metadata": {}
        }
      ]
    },
    {
      "cell_type": "code",
      "source": [
        "import matplotlib.pyplot as plt\n",
        "import seaborn as sns\n",
        "import numpy as np\n",
        "import scipy.stats as stats\n",
        "\n",
        "# Assuming you've already generated int_list2\n",
        "\n",
        "# 3. Gaussian distribution & smoothened KDE plot:\n",
        "xmin, xmax = plt.xlim()  # Get the x-axis limits (from previous plots, if any)\n",
        "x = np.linspace(xmin, xmax, 100)  # Create x-values for Gaussian curve\n",
        "p = stats.norm.pdf(x, np.mean(int_list2), np.std(int_list2))  # Calculate Gaussian PDF\n",
        "\n",
        "# Create the plot\n",
        "plt.plot(x, p, 'k', linewidth=2, label='Gaussian Distribution')  # Plot Gaussian curve\n",
        "sns.kdeplot(int_list2, label='KDE')  # Plot KDE curve\n",
        "plt.legend()\n",
        "plt.title('Gaussian Distribution & KDE')\n",
        "plt.xlabel('Value')\n",
        "plt.ylabel('Density')\n",
        "plt.show()"
      ],
      "metadata": {
        "colab": {
          "base_uri": "https://localhost:8080/",
          "height": 472
        },
        "id": "Zy14t8Lqq1f4",
        "outputId": "d764ef8a-943d-417e-ec6e-de1edf9d8828"
      },
      "execution_count": null,
      "outputs": [
        {
          "output_type": "display_data",
          "data": {
            "text/plain": [
              "<Figure size 640x480 with 1 Axes>"
            ],
            "image/png": "[encoded data removed]"
          },
          "metadata": {}
        }
      ]
    },
    {
      "cell_type": "markdown",
      "source": [
        "(ii) Write a Python function to calculate the range of a given list of numbers."
      ],
      "metadata": {
        "id": "LxOn6w-YwVcD"
      }
    },
    {
      "cell_type": "code",
      "source": [
        "def calculate_range(numbers):\n",
        "  minimum=min(numbers)\n",
        "  maximum=max(numbers)\n",
        "  range_of_number=maximum-minimum\n",
        "  return range_of_number"
      ],
      "metadata": {
        "id": "e02U-k6Cr5FM"
      },
      "execution_count": null,
      "outputs": []
    },
    {
      "cell_type": "code",
      "source": [
        "numbers=[1,2,3,4,5,6,7,8,9]\n",
        "calculate_range(numbers)"
      ],
      "metadata": {
        "colab": {
          "base_uri": "https://localhost:8080/"
        },
        "id": "A-CTlI72wxKy",
        "outputId": "7ac4f26d-1daa-4636-d2ae-a8a0efa0cb1b"
      },
      "execution_count": null,
      "outputs": [
        {
          "output_type": "execute_result",
          "data": {
            "text/plain": [
              "8"
            ]
          },
          "metadata": {},
          "execution_count": 2
        }
      ]
    },
    {
      "cell_type": "markdown",
      "source": [
        " (iii) Create a program to find the variance and standard deviation of a list of numbers."
      ],
      "metadata": {
        "id": "0PUq2UDSw7_L"
      }
    },
    {
      "cell_type": "code",
      "source": [
        "import numpy as np\n",
        "def calculate_variance_std(numbers):\n",
        "  variance=np.var(numbers)\n",
        "  std=np.std(numbers)\n",
        "  return variance,std"
      ],
      "metadata": {
        "id": "eKQ_wWe9w59K"
      },
      "execution_count": null,
      "outputs": []
    },
    {
      "cell_type": "code",
      "source": [
        "numbers=[1,2,3,4,5,6,7,8,9]\n",
        "calculate_variance_std(numbers)"
      ],
      "metadata": {
        "colab": {
          "base_uri": "https://localhost:8080/"
        },
        "id": "maIy9TBZxVdU",
        "outputId": "14e83755-9c4f-4b23-d5c7-0189f62fdde6"
      },
      "execution_count": null,
      "outputs": [
        {
          "output_type": "execute_result",
          "data": {
            "text/plain": [
              "(6.666666666666667, 2.581988897471611)"
            ]
          },
          "metadata": {},
          "execution_count": 4
        }
      ]
    },
    {
      "cell_type": "markdown",
      "source": [
        "(iv) Implement a function to compute the interquartile range (IQR) of a list of values."
      ],
      "metadata": {
        "id": "sSJjMSKcxft5"
      }
    },
    {
      "cell_type": "code",
      "source": [
        "def calculate_iqr(data):\n",
        "  q1=np.percentile(data,25)\n",
        "  q3=np.percentile(data,75)\n",
        "  iqr=q3-q1\n",
        "  return iqr\n"
      ],
      "metadata": {
        "id": "KQGgzBH-xc8F"
      },
      "execution_count": null,
      "outputs": []
    },
    {
      "cell_type": "code",
      "source": [
        "data=[1,2,3,4,5,6,7,90]\n",
        "calculate_iqr(data)"
      ],
      "metadata": {
        "colab": {
          "base_uri": "https://localhost:8080/"
        },
        "id": "UUS7fINyyDS0",
        "outputId": "a73590b4-474f-407d-f32c-f97548a118ed"
      },
      "execution_count": null,
      "outputs": [
        {
          "output_type": "execute_result",
          "data": {
            "text/plain": [
              "3.5"
            ]
          },
          "metadata": {},
          "execution_count": 10
        }
      ]
    },
    {
      "cell_type": "markdown",
      "source": [
        "(v) Build a program to calculate the coefficient of variation for a dataset."
      ],
      "metadata": {
        "id": "j0YTYYHvyUEi"
      }
    },
    {
      "cell_type": "code",
      "source": [
        "def calculate_cvd(data):\n",
        "  mean=np.mean(data)\n",
        "  std=np.std(data)\n",
        "  cvd=(std/mean)*100\n",
        "  return cvd"
      ],
      "metadata": {
        "id": "cS4wrOZfyOuH"
      },
      "execution_count": null,
      "outputs": []
    },
    {
      "cell_type": "code",
      "source": [
        "data=[1,2,45,67,68,67,8,7,10]\n",
        "calculate_cvd(data)"
      ],
      "metadata": {
        "colab": {
          "base_uri": "https://localhost:8080/"
        },
        "id": "s9U1-KWuyj4G",
        "outputId": "a068d041-be22-4ca4-8cbe-b64249a92fb5"
      },
      "execution_count": null,
      "outputs": [
        {
          "output_type": "execute_result",
          "data": {
            "text/plain": [
              "94.11088940251405"
            ]
          },
          "metadata": {},
          "execution_count": 13
        }
      ]
    },
    {
      "cell_type": "markdown",
      "source": [
        "(vi) Write a Python function to find the mean absolute deviation (MAD) of a list of numbers."
      ],
      "metadata": {
        "id": "uk9XDPGXy5ry"
      }
    },
    {
      "cell_type": "code",
      "source": [
        "def calculate_mad(data):\n",
        "  mean=np.mean(data)\n",
        "  abs=np.abs(data-mean)\n",
        "  mad=np.mean(abs)\n",
        "  return mad"
      ],
      "metadata": {
        "id": "fEGxDNVIy4Vb"
      },
      "execution_count": null,
      "outputs": []
    },
    {
      "cell_type": "code",
      "source": [
        "data=[1,2,3,4,5,6,7]\n",
        "calculate_mad(data)"
      ],
      "metadata": {
        "colab": {
          "base_uri": "https://localhost:8080/"
        },
        "id": "43Ucr07FzXzT",
        "outputId": "04172e4f-e2c5-4acd-e63c-942bcd751f6f"
      },
      "execution_count": null,
      "outputs": [
        {
          "output_type": "execute_result",
          "data": {
            "text/plain": [
              "1.7142857142857142"
            ]
          },
          "metadata": {},
          "execution_count": 15
        }
      ]
    },
    {
      "cell_type": "markdown",
      "source": [
        "(vii) Create a program to calculate the quartile deviation of a list of values."
      ],
      "metadata": {
        "id": "9N91vuwNzfIU"
      }
    },
    {
      "cell_type": "code",
      "source": [
        "def calculate_qd(data):\n",
        "\n",
        "    q1=np.percentile(data,25)\n",
        "    q3=np.percentile(data,75)\n",
        "    qd=(q3-q1)/2\n",
        "    return qd\n"
      ],
      "metadata": {
        "id": "vUJ69I1AzdlD"
      },
      "execution_count": null,
      "outputs": []
    },
    {
      "cell_type": "code",
      "source": [
        "data=[1,2,3,4,5,67]\n",
        "calculate_qd(data)"
      ],
      "metadata": {
        "colab": {
          "base_uri": "https://localhost:8080/"
        },
        "id": "auto9zszz9jI",
        "outputId": "4e334e18-9410-4b57-9c58-b434e2709a0c"
      },
      "execution_count": null,
      "outputs": [
        {
          "output_type": "execute_result",
          "data": {
            "text/plain": [
              "1.25"
            ]
          },
          "metadata": {},
          "execution_count": 20
        }
      ]
    },
    {
      "cell_type": "markdown",
      "source": [
        "(viii) Implement a function to find the range-based coefficient of dispersion for a dataset."
      ],
      "metadata": {
        "id": "-gPgFdMV0JMo"
      }
    },
    {
      "cell_type": "code",
      "source": [
        "def calculate_rbc(data):\n",
        "  range=max(data)-min(data)\n",
        "  mean=np.mean(data)\n",
        "  rbc=range/mean\n",
        "  return rbc"
      ],
      "metadata": {
        "id": "rekCLcPT0Gpo"
      },
      "execution_count": null,
      "outputs": []
    },
    {
      "cell_type": "code",
      "source": [
        "data=[1,2,3,4,5,6,7]\n",
        "calculate_rbc(data)"
      ],
      "metadata": {
        "colab": {
          "base_uri": "https://localhost:8080/"
        },
        "id": "xCg9KQrE01lA",
        "outputId": "3f233668-c9b3-42a4-b08b-43d87920f9d7"
      },
      "execution_count": null,
      "outputs": [
        {
          "output_type": "execute_result",
          "data": {
            "text/plain": [
              "1.5"
            ]
          },
          "metadata": {},
          "execution_count": 22
        }
      ]
    },
    {
      "cell_type": "markdown",
      "source": [
        "3 Write a Python class representing a discrete random variable with methods to calculate its expected\n",
        "value and variance."
      ],
      "metadata": {
        "id": "VtmeZfSD0_yd"
      }
    },
    {
      "cell_type": "code",
      "source": [
        "class discreterandomvariable:\n",
        "  def __init__(self,values,probabilities):\n",
        "    self.values=values\n",
        "    self.probabilities=probabilities\n",
        "  def expected_value(self):\n",
        "    return sum(value*probability for value ,probability in zip(self.values,self.probabilities))\n",
        "  def variance(self):\n",
        "    expected_value=self.expected_value()\n",
        "    return sum((value-expected_value)**2 * probability for value ,probability in zip(self.values,self.probabilities))\n",
        "\n"
      ],
      "metadata": {
        "id": "0mJ4bEpf08c5"
      },
      "execution_count": null,
      "outputs": []
    },
    {
      "cell_type": "code",
      "source": [
        "values = [1, 2, 3, 4]\n",
        "probabilities = [0.2, 0.3, 0.4, 0.1]\n",
        "\n",
        "random_variable = discreterandomvariable(values, probabilities)\n",
        "expected_value = random_variable.expected_value()\n",
        "variance = random_variable.variance()\n",
        "\n",
        "\n",
        "print(f\"Expected Value: {expected_value}\")\n",
        "print(f\"Variance: {variance}\")"
      ],
      "metadata": {
        "colab": {
          "base_uri": "https://localhost:8080/"
        },
        "id": "2PrNh_UX5Ej_",
        "outputId": "76152102-4a03-42f2-daf9-9c0730fb28a8"
      },
      "execution_count": null,
      "outputs": [
        {
          "output_type": "stream",
          "name": "stdout",
          "text": [
            "Expected Value: 2.4\n",
            "Variance: 0.8400000000000001\n"
          ]
        }
      ]
    },
    {
      "cell_type": "markdown",
      "source": [
        " 4 Implement a program to simulate the rolling of a fair six-sided die and calculate the expected value and\n",
        "variance of the outcomes."
      ],
      "metadata": {
        "id": "aJoL95Wd7pKz"
      }
    },
    {
      "cell_type": "code",
      "source": [
        "import random\n",
        "import numpy as np"
      ],
      "metadata": {
        "id": "aiKV-R7G5cOV"
      },
      "execution_count": null,
      "outputs": []
    },
    {
      "cell_type": "code",
      "source": [
        "def roll_die(num_trials):\n",
        "  outcome=[]\n",
        "  for _ in range(num_trials):\n",
        "    outcome.append(random.randint(1,6))\n",
        "  return outcome\n",
        "def expected_value(outcome):\n",
        "  return np.mean(outcome)\n",
        "def variance(outcome):\n",
        "  return np.var(outcome)\n"
      ],
      "metadata": {
        "id": "DCjqbHnWsvMy"
      },
      "execution_count": null,
      "outputs": []
    },
    {
      "cell_type": "code",
      "source": [
        "num_trials=20\n",
        "outcome=roll_die(num_trials)"
      ],
      "metadata": {
        "id": "l_6rCA3ZtP88"
      },
      "execution_count": null,
      "outputs": []
    },
    {
      "cell_type": "code",
      "source": [
        "expected_value(outcome)"
      ],
      "metadata": {
        "colab": {
          "base_uri": "https://localhost:8080/"
        },
        "id": "S_s9nKRCtWZ2",
        "outputId": "764ea7d9-8447-40c7-8a85-1081fe84bd59"
      },
      "execution_count": null,
      "outputs": [
        {
          "output_type": "execute_result",
          "data": {
            "text/plain": [
              "3.35"
            ]
          },
          "metadata": {},
          "execution_count": 7
        }
      ]
    },
    {
      "cell_type": "code",
      "source": [
        "variance(outcome)"
      ],
      "metadata": {
        "colab": {
          "base_uri": "https://localhost:8080/"
        },
        "id": "fYlDkAC6taZN",
        "outputId": "f25d8162-b31a-46fe-f5a6-3a043e1681a2"
      },
      "execution_count": null,
      "outputs": [
        {
          "output_type": "execute_result",
          "data": {
            "text/plain": [
              "2.7275"
            ]
          },
          "metadata": {},
          "execution_count": 8
        }
      ]
    },
    {
      "cell_type": "markdown",
      "source": [
        " 5.\n",
        " Create a Python function to generate random samples from a given probability distribution (e.g.,\n",
        "binomial, Poisson) and calculate their mean and variance."
      ],
      "metadata": {
        "id": "021yhrFwtqDh"
      }
    },
    {
      "cell_type": "code",
      "source": [
        "def generate_samples(distribution,**kwargs):\n",
        "  if distribution=='binomial':\n",
        "    samples=np.random.binomial(**kwargs)\n",
        "  elif distribution=='poisson':\n",
        "    samples=np.random.poisson(**kwargs)\n",
        "  else:\n",
        "    raise ValueError('invalid distribution')\n",
        "  mean=np.mean(samples)\n",
        "  variance=np.var(samples)\n",
        "  return samples,mean,variance"
      ],
      "metadata": {
        "id": "_ZwDmMsltoxP"
      },
      "execution_count": null,
      "outputs": []
    },
    {
      "cell_type": "code",
      "source": [
        "samples_binomial,mean_binomial,varance_binomial=generate_samples(distribution='binomial',n=10,p=0.5,size=1000)\n",
        "samples_poisson,mean_poisson,variance_poisson=generate_samples(distribution='poisson',lam=3,size=500)"
      ],
      "metadata": {
        "id": "we9soA0zvmKg"
      },
      "execution_count": null,
      "outputs": []
    },
    {
      "cell_type": "code",
      "source": [
        "samples_binomial"
      ],
      "metadata": {
        "colab": {
          "base_uri": "https://localhost:8080/"
        },
        "id": "UtA62GQRwIHT",
        "outputId": "172b71d4-1d16-4473-a981-2731f0f738d5"
      },
      "execution_count": null,
      "outputs": [
        {
          "output_type": "execute_result",
          "data": {
            "text/plain": [
              "array([ 4,  5,  5,  3,  7,  3,  7,  4,  5,  4,  4,  5,  5,  6,  5,  3,  4,\n",
              "        8,  6,  4,  5,  5,  7,  6,  6,  3,  4,  7,  5,  4,  5,  5,  6,  4,\n",
              "        4,  5,  6,  3,  6,  5,  6,  3,  6,  6,  4,  4,  8,  7,  6,  4,  4,\n",
              "        5,  6,  7,  4, 10,  7,  7,  6,  7,  6,  4,  3,  9,  6,  3,  5,  4,\n",
              "        3,  5,  4,  6,  7,  3,  3,  8,  4,  3,  4,  7,  7,  4,  5,  6,  6,\n",
              "        4,  6,  5,  6,  5,  7,  4,  6,  6,  9,  5,  4,  5,  6,  3,  7,  6,\n",
              "        5,  6,  7,  4,  4,  5,  4,  5,  7,  7,  5,  4,  4,  7,  4,  6,  9,\n",
              "        4,  6,  5,  5,  3,  6,  6,  3,  2,  6,  5,  4,  4,  4,  4,  5,  2,\n",
              "        5,  3,  4,  5,  6,  3,  4,  5,  4,  4,  8,  7,  3,  5,  6,  4,  6,\n",
              "        6,  5,  4,  6,  7,  4,  4,  5,  6,  6,  1,  6,  4,  6,  7,  6,  3,\n",
              "        8,  5,  6,  3,  5,  6,  6,  4,  5,  2,  6,  2,  7,  6,  3,  5,  4,\n",
              "        5,  4,  5,  9,  3,  5,  2,  5,  5,  5,  7,  4,  3,  6,  4,  5,  8,\n",
              "        1,  6,  8,  5,  6,  5,  5,  5,  2,  6,  5,  7,  5,  7,  7,  5,  1,\n",
              "        5,  5,  4,  6,  5,  4,  5,  3,  8,  6,  7,  5,  6,  4,  6,  4,  4,\n",
              "        5,  8,  5,  3,  4,  6,  6,  4,  6,  2,  5,  8,  5,  7,  7,  3,  6,\n",
              "        4,  5,  5,  6,  4,  6,  3,  3,  6,  4,  4,  7,  6,  7,  8,  4,  4,\n",
              "        5,  7,  3,  5,  4,  5,  3,  2,  6,  6,  3,  5,  6,  3,  4,  4,  8,\n",
              "        7,  3,  5,  4,  6,  5,  5,  7,  7,  2,  5,  4,  6,  5,  7,  5,  3,\n",
              "        3,  6,  6,  5,  5,  5,  5,  8,  5,  4,  3,  5,  6,  5,  5,  3,  4,\n",
              "        3,  6,  5,  6,  6,  5,  5,  2,  3,  4,  5,  6,  6,  4,  5,  3,  3,\n",
              "        7,  7,  6,  6,  4,  5,  4,  4,  5,  3,  5,  3,  3,  6,  4,  3,  6,\n",
              "        6,  6,  5,  5,  6,  7,  5,  5,  6,  3,  5,  7,  4,  3,  6,  6,  4,\n",
              "        5,  4,  4,  6,  5,  4,  5,  3,  6,  7,  4,  5,  6,  6,  5,  6,  4,\n",
              "        4,  2,  6,  7,  6,  4,  5,  4,  4,  3,  6,  4,  5,  5,  4,  5,  6,\n",
              "        5,  7,  6,  8,  6,  8,  3,  8,  6,  7,  8,  6,  5,  6,  2,  7,  3,\n",
              "        5,  4,  5,  5,  4,  3,  5,  6,  7,  7,  4,  3,  4,  6,  1,  3,  5,\n",
              "        4,  4,  4,  4,  6,  6,  6,  3,  4,  4,  6,  5,  7,  4,  5,  4,  4,\n",
              "        6,  5,  5,  3,  4,  1,  6,  3,  3,  7,  5,  3,  4,  7,  3,  5,  5,\n",
              "        5,  7,  5,  6,  3,  3,  7,  6,  5,  4,  6,  8,  7,  5,  6,  5,  5,\n",
              "        7,  6,  5,  2,  6,  7,  7,  5,  4,  4,  6,  5,  7,  3,  8,  7,  4,\n",
              "        6,  4,  5,  6,  7,  4,  5,  5,  3,  3,  6,  6,  4,  4,  5,  5,  6,\n",
              "        4,  6,  8,  3,  4,  5,  3,  6,  6,  6,  4,  5,  8,  8,  3,  3,  3,\n",
              "        4,  5,  5,  0,  5,  3,  3,  2,  6,  3,  4,  1,  4,  5,  7,  7,  6,\n",
              "        1,  5,  6,  7,  6,  6,  3,  8,  5,  0,  3,  4,  9,  2,  4,  5,  3,\n",
              "        6,  5,  6,  6,  7,  7,  6,  5,  6,  4,  5,  4,  1,  3,  3,  7,  7,\n",
              "        8,  6,  6,  5,  2,  6,  7,  5,  6,  6,  4,  4,  5,  5,  5,  7,  4,\n",
              "        4,  4,  4,  6,  2,  4,  2,  6,  4,  4,  4,  2,  6,  5,  6,  4,  6,\n",
              "        2,  3,  4,  5,  4,  5,  4,  7,  4,  3,  3,  5,  5,  5,  4,  5,  1,\n",
              "        6,  5,  4,  3,  6,  4,  3,  5,  5,  6,  7,  3,  6,  4,  6,  6,  5,\n",
              "        4,  5,  5,  7,  5,  6,  6,  7,  9,  4,  3,  2,  7,  4,  2,  5,  3,\n",
              "        5,  6,  7,  7,  5,  3,  8,  7,  4,  7,  4,  5,  4, 10,  7,  6,  4,\n",
              "        7,  4,  3,  7,  7,  6,  3,  3,  3,  3,  4,  6,  5,  4,  5,  5,  6,\n",
              "        3,  7,  6,  3,  4,  3,  6,  7,  6,  6,  5,  7,  6,  2,  6,  5,  6,\n",
              "        8,  3,  6,  4,  6,  2,  5,  6,  5,  6,  6,  4,  6,  5,  5,  5,  4,\n",
              "        5,  5,  6,  4,  7,  6,  4,  6,  6,  4,  5,  6,  7,  5,  2,  4,  3,\n",
              "        3,  4,  5,  2,  5,  7,  2,  6,  7,  5,  4,  5,  6,  4,  9,  5,  4,\n",
              "        6,  9,  5,  7,  5,  7,  5,  4,  9,  5,  4,  6,  4,  3,  4,  6,  8,\n",
              "        7,  5,  4,  4,  8,  7,  5,  4,  6,  5,  4,  4,  4,  2,  4,  5,  4,\n",
              "        5,  3,  7,  3,  3,  4,  6,  6,  6,  5,  6,  5,  7,  3,  5,  5,  8,\n",
              "        4,  5,  5,  3,  5,  4,  5,  6,  7,  5,  4,  7,  4,  6,  6,  9,  5,\n",
              "        5,  4,  4,  4,  6,  6,  4,  9,  6,  6,  5,  6,  4,  3,  4,  6,  7,\n",
              "        3,  6,  4,  5,  2,  4,  5,  6,  4,  5,  6,  5,  3,  4,  6,  6,  5,\n",
              "        4,  5,  4,  5,  4,  7,  7,  8,  6,  5,  5,  5,  5,  7,  7,  4,  5,\n",
              "        4,  2,  7,  3,  4,  4,  7,  5,  9,  8,  5,  5,  6,  5,  7,  4,  4,\n",
              "        7,  5,  3,  6,  7,  3,  4,  7,  6,  7,  4,  6,  4,  7,  7,  4,  6,\n",
              "        5,  5,  3,  2,  5,  6,  7,  5,  5,  5,  4,  6,  5,  5,  2,  3,  4,\n",
              "        6,  4,  5,  5,  3,  7,  5,  3,  4,  4,  5,  2,  5,  3,  6,  2,  3,\n",
              "        7,  3,  5,  4,  5,  3,  3,  5,  6,  5,  5,  7,  4,  5,  7,  4,  6,\n",
              "        4,  3,  5,  7,  4,  3,  7,  7,  7,  5,  5,  5,  7,  3])"
            ]
          },
          "metadata": {},
          "execution_count": 12
        }
      ]
    },
    {
      "cell_type": "code",
      "source": [
        "mean_binomial"
      ],
      "metadata": {
        "colab": {
          "base_uri": "https://localhost:8080/"
        },
        "id": "-4LXl6yzwMmA",
        "outputId": "03cf4d13-ae7c-4a4e-b2bd-05fe74b67ccb"
      },
      "execution_count": null,
      "outputs": [
        {
          "output_type": "execute_result",
          "data": {
            "text/plain": [
              "4.996"
            ]
          },
          "metadata": {},
          "execution_count": 14
        }
      ]
    },
    {
      "cell_type": "markdown",
      "source": [
        "6.Write a Python script to generate random numbers from a Gaussian (normal) distribution and compute\n",
        "the mean, variance, and standard deviation of the samples."
      ],
      "metadata": {
        "id": "mVN8OUOGwiAQ"
      }
    },
    {
      "cell_type": "code",
      "source": [
        "mu=0\n",
        "sigma=1\n",
        "num_samples=50\n",
        "samples=np.random.normal(mu,sigma,num_samples)\n",
        "mean=np.mean(samples)\n",
        "variance=np.var(samples)\n",
        "standard_dav=np.std(samples)\n",
        "print(f\"Mean: {mean}\")\n",
        "print(f\"Variance: {variance}\")\n",
        "print(f\"Standard Deviation: {standard_dav}\")"
      ],
      "metadata": {
        "colab": {
          "base_uri": "https://localhost:8080/"
        },
        "id": "4htNYBMWwO6r",
        "outputId": "d531c258-e437-42a9-b527-9822d54bdded"
      },
      "execution_count": null,
      "outputs": [
        {
          "output_type": "stream",
          "name": "stdout",
          "text": [
            "Mean: 0.12351371196014643\n",
            "Variance: 0.9905964426071676\n",
            "Standard Deviation: 0.9952871156642025\n"
          ]
        }
      ]
    },
    {
      "cell_type": "markdown",
      "source": [
        " 7.Use seaborn library to load `tips` dataset. Find the following from the dataset for the columns `total_bill`\n",
        "and `tip`:\n",
        "\n",
        "\n",
        " (i) Write a Python function that calculates their skewness.\n",
        " approximately symmetric.\n",
        "\n",
        "\n",
        " (ii) Create a program that determines whether the columns exhibit positive skewness, negative skewness, or is\n",
        "\n",
        "\n",
        "(iii) Write a function that calculates the covariance between two columns.\n",
        "\n",
        "\n",
        " (iv) Implement a Python program that calculates the Pearson correlation coefficient between two columns.\n",
        "\n",
        "\n",
        " (v) Write a script to visualize the correlation between two specific columns in a Pandas DataFrame using\n",
        "scatter plots."
      ],
      "metadata": {
        "id": "lhYrj4N9x1r1"
      }
    },
    {
      "cell_type": "code",
      "source": [
        "import seaborn as sns\n",
        "import pandas as pd\n",
        "import scipy.stats as stats\n",
        "import matplotlib.pyplot as plt\n"
      ],
      "metadata": {
        "id": "S2Bav4Irxq4W"
      },
      "execution_count": null,
      "outputs": []
    },
    {
      "cell_type": "code",
      "source": [
        "tips=sns.load_dataset('tips')"
      ],
      "metadata": {
        "id": "dCv2wLA8zGv9"
      },
      "execution_count": null,
      "outputs": []
    },
    {
      "cell_type": "markdown",
      "source": [
        "(i) Write a Python function that calculates their skewness. approximately symmetric."
      ],
      "metadata": {
        "id": "OIZPYxfBzSPF"
      }
    },
    {
      "cell_type": "code",
      "source": [
        "def calculate_skewness(data):\n",
        "  return stats.skew(data)"
      ],
      "metadata": {
        "id": "DvDnhinHzLcB"
      },
      "execution_count": null,
      "outputs": []
    },
    {
      "cell_type": "code",
      "source": [
        "calculate_skewness(tips['total_bill'])"
      ],
      "metadata": {
        "colab": {
          "base_uri": "https://localhost:8080/"
        },
        "id": "-K1Zf7pTzcKr",
        "outputId": "2232a10f-4f6d-4675-bf5b-c93d882b7560"
      },
      "execution_count": null,
      "outputs": [
        {
          "output_type": "execute_result",
          "data": {
            "text/plain": [
              "1.1262346334818638"
            ]
          },
          "metadata": {},
          "execution_count": 26
        }
      ]
    },
    {
      "cell_type": "code",
      "source": [
        "calculate_skewness(tips['tip'])"
      ],
      "metadata": {
        "colab": {
          "base_uri": "https://localhost:8080/"
        },
        "id": "IBEGgpNQzpUj",
        "outputId": "8f68e66f-79c7-496f-95c7-d951c53fb515"
      },
      "execution_count": null,
      "outputs": [
        {
          "output_type": "execute_result",
          "data": {
            "text/plain": [
              "1.4564266884221506"
            ]
          },
          "metadata": {},
          "execution_count": 27
        }
      ]
    },
    {
      "cell_type": "markdown",
      "source": [
        "(ii) Create a program that determines whether the columns exhibit positive skewness, negative skewness, or is"
      ],
      "metadata": {
        "id": "yhSTWPPTz0Wj"
      }
    },
    {
      "cell_type": "code",
      "source": [
        "def exhibit_type(data):\n",
        "  skewness=calculate_skewness(data)\n",
        "  if skewness>0:\n",
        "    return 'positive skewness'\n",
        "  elif skewness<0:\n",
        "    return 'neagtive skewness'\n",
        "  else:\n",
        "    return 'approx symmetric'\n"
      ],
      "metadata": {
        "id": "UoQ9woEOzy2e"
      },
      "execution_count": null,
      "outputs": []
    },
    {
      "cell_type": "code",
      "source": [
        "exhibit_type(tips['total_bill'])"
      ],
      "metadata": {
        "colab": {
          "base_uri": "https://localhost:8080/",
          "height": 35
        },
        "id": "OxLxyjIB0YPF",
        "outputId": "cc18c20d-7d03-4441-ee9e-81f581014fdb"
      },
      "execution_count": null,
      "outputs": [
        {
          "output_type": "execute_result",
          "data": {
            "text/plain": [
              "'positive skewness'"
            ],
            "application/vnd.google.colaboratory.intrinsic+json": {
              "type": "string"
            }
          },
          "metadata": {},
          "execution_count": 29
        }
      ]
    },
    {
      "cell_type": "code",
      "source": [
        "exhibit_type(tips['tip'])"
      ],
      "metadata": {
        "colab": {
          "base_uri": "https://localhost:8080/",
          "height": 35
        },
        "id": "hrZuOFqf0cto",
        "outputId": "415620b6-8d5e-4e47-d477-7d50b18f2366"
      },
      "execution_count": null,
      "outputs": [
        {
          "output_type": "execute_result",
          "data": {
            "text/plain": [
              "'positive skewness'"
            ],
            "application/vnd.google.colaboratory.intrinsic+json": {
              "type": "string"
            }
          },
          "metadata": {},
          "execution_count": 30
        }
      ]
    },
    {
      "cell_type": "markdown",
      "source": [
        "(iii) Write a function that calculates the covariance between two columns."
      ],
      "metadata": {
        "id": "JwWOCTl80igV"
      }
    },
    {
      "cell_type": "code",
      "source": [
        "def cov(data1,data2):\n",
        "\n",
        "  return data1.cov(data2)"
      ],
      "metadata": {
        "id": "_jNXMiXj0g_V"
      },
      "execution_count": null,
      "outputs": []
    },
    {
      "cell_type": "code",
      "source": [
        "cov(tips['total_bill'],tips['tip'])"
      ],
      "metadata": {
        "colab": {
          "base_uri": "https://localhost:8080/"
        },
        "id": "uP5VG6tQ01OR",
        "outputId": "2d634e56-3c17-44eb-c130-d7d3b637f4e9"
      },
      "execution_count": null,
      "outputs": [
        {
          "output_type": "execute_result",
          "data": {
            "text/plain": [
              "8.323501629224854"
            ]
          },
          "metadata": {},
          "execution_count": 32
        }
      ]
    },
    {
      "cell_type": "markdown",
      "source": [
        "(iv) Implement a Python program that calculates the Pearson correlation coefficient between two columns.impimporffiiiiiiimportsddadadad"
      ],
      "metadata": {
        "id": "ZoR5U1e506Md"
      }
    },
    {
      "cell_type": "code",
      "source": [
        "def pearson_corr(data1,data2):\n",
        "  return data1.corr(data2)"
      ],
      "metadata": {
        "id": "nSDN9Dbv03Fp"
      },
      "execution_count": null,
      "outputs": []
    },
    {
      "cell_type": "code",
      "source": [
        "pearson_corr(tips['total_bill'],tips['tip'])"
      ],
      "metadata": {
        "colab": {
          "base_uri": "https://localhost:8080/"
        },
        "id": "QZ7VKxm51Gcx",
        "outputId": "0d6d5c59-f577-40d5-f535-32481eb8b140"
      },
      "execution_count": null,
      "outputs": [
        {
          "output_type": "execute_result",
          "data": {
            "text/plain": [
              "0.6757341092113641"
            ]
          },
          "metadata": {},
          "execution_count": 35
        }
      ]
    },
    {
      "cell_type": "markdown",
      "source": [
        "(v) Write a script to visualize the correlation between two specific columns in a Pandas DataFrame using scatter plots.\n"
      ],
      "metadata": {
        "id": "eH0lJ6cB1RUE"
      }
    },
    {
      "cell_type": "code",
      "source": [
        "def visualize_corr(data,col1,col2):\n",
        "  sns.scatterplot(x=col1,y=col2,data=data)\n",
        "  plt.title(f'correlation between {col1} and {col2}')\n",
        "  plt.show()"
      ],
      "metadata": {
        "id": "Q4NCPnBg1MjQ"
      },
      "execution_count": null,
      "outputs": []
    },
    {
      "cell_type": "code",
      "source": [
        "visualize_corr(tips,'total_bill','tip')"
      ],
      "metadata": {
        "colab": {
          "base_uri": "https://localhost:8080/",
          "height": 472
        },
        "id": "OWuJfcAZ126e",
        "outputId": "7f17b734-0947-4ebf-c280-c99de088b77c"
      },
      "execution_count": null,
      "outputs": [
        {
          "output_type": "display_data",
          "data": {
            "text/plain": [
              "<Figure size 640x480 with 1 Axes>"
            ],
            "image/png": "[encoded data removed]"
          },
          "metadata": {}
        }
      ]
    },
    {
      "cell_type": "markdown",
      "source": [
        " 8.Write a Python function to calculate the probability density function (PDF) of a continuous random\n",
        "variable for a given normal distribution."
      ],
      "metadata": {
        "id": "vHfw-YNO2QSe"
      }
    },
    {
      "cell_type": "code",
      "source": [
        "import scipy.stats as stats"
      ],
      "metadata": {
        "id": "Mz0ZUsIt3W6B"
      },
      "execution_count": null,
      "outputs": []
    },
    {
      "cell_type": "code",
      "source": [
        "def calculate_pdf(x,mu,sigma):\n",
        "  return stats.norm.pdf(x,loc=mu,scale=sigma)"
      ],
      "metadata": {
        "id": "emlFOEhg1_od"
      },
      "execution_count": null,
      "outputs": []
    },
    {
      "cell_type": "code",
      "source": [
        "pdf_value=calculate_pdf(2,0,1)\n",
        "pdf_value"
      ],
      "metadata": {
        "colab": {
          "base_uri": "https://localhost:8080/"
        },
        "id": "Suy0aBGr4Aw_",
        "outputId": "817d02ff-16c2-4a61-e0d9-33924406f197"
      },
      "execution_count": null,
      "outputs": [
        {
          "output_type": "execute_result",
          "data": {
            "text/plain": [
              "0.05399096651318806"
            ]
          },
          "metadata": {},
          "execution_count": 46
        }
      ]
    },
    {
      "cell_type": "markdown",
      "source": [
        " 9.Create a program to calculate the cumulative distribution function (CDF) of exponential distribution."
      ],
      "metadata": {
        "id": "ExsTqLa-4OHz"
      }
    },
    {
      "cell_type": "code",
      "source": [
        "def calculate_exponential_cdf(x,scale):\n",
        "  return stats.expon.cdf(x,scale=scale)"
      ],
      "metadata": {
        "id": "DnvH0qgq4KId"
      },
      "execution_count": null,
      "outputs": []
    },
    {
      "cell_type": "code",
      "source": [
        "cdf_value=calculate_exponential_cdf(2,1)\n",
        "cdf_value"
      ],
      "metadata": {
        "colab": {
          "base_uri": "https://localhost:8080/"
        },
        "id": "Dp4sF-bb4xUC",
        "outputId": "1c64728e-ec86-4474-d684-90ac09fa7b8f"
      },
      "execution_count": null,
      "outputs": [
        {
          "output_type": "execute_result",
          "data": {
            "text/plain": [
              "0.8646647167633873"
            ]
          },
          "metadata": {},
          "execution_count": 48
        }
      ]
    },
    {
      "cell_type": "markdown",
      "source": [
        "10. Write a Python function to calculate the probability mass function (PMF) of Poisson distribution."
      ],
      "metadata": {
        "id": "ghZmHMGF5LHL"
      }
    },
    {
      "cell_type": "code",
      "source": [
        "def calculate_pmf(k,mu):\n",
        "  return stats.poisson.pmf(k,mu)\n"
      ],
      "metadata": {
        "id": "6LxUjxqS5IW5"
      },
      "execution_count": null,
      "outputs": []
    },
    {
      "cell_type": "code",
      "source": [
        "pmf_value = calculate_pmf(2, 3)\n",
        "print(pmf_value)"
      ],
      "metadata": {
        "colab": {
          "base_uri": "https://localhost:8080/"
        },
        "id": "tNdnoxRJ50om",
        "outputId": "92bc5aa2-76d5-48f8-dbc2-93f932d49e37"
      },
      "execution_count": null,
      "outputs": [
        {
          "output_type": "stream",
          "name": "stdout",
          "text": [
            "0.22404180765538775\n"
          ]
        }
      ]
    },
    {
      "cell_type": "markdown",
      "source": [
        "11. A company wants to test if a new website layout leads to a higher conversion rate (percentage of visitors\n",
        "who make a purchase). They collect data from the old and new layouts to compare.\n",
        " To generate the data use the following command:\n",
        "\n",
        "\n",
        " ```python\n",
        "\n",
        "\n",
        " import numpy as np\n",
        " # 50 purchases out of 1000 visitors\n",
        " old_layout = np.array([1] * 50 + [0] * 950)\n",
        " # 70 purchases out of 1000 visitors\n",
        "new_layout = np.array([1] * 70 + [0] * 930)\n",
        "\n",
        "\n",
        " ```\n",
        "\n",
        "\n",
        " Apply z-test to find which layout is successful"
      ],
      "metadata": {
        "id": "W7Lax4qo7XVC"
      }
    },
    {
      "cell_type": "code",
      "source": [
        "import numpy as np\n",
        "from statsmodels.stats.proportion import proportions_ztest\n"
      ],
      "metadata": {
        "id": "iweS9W6Y7OwF"
      },
      "execution_count": 1,
      "outputs": []
    },
    {
      "cell_type": "code",
      "source": [
        "# 50 purchases out of 1000 visitors\n",
        "old_layout = np.array([1] * 50 + [0] * 950)\n",
        " # 70 purchases out of 1000 visitors\n",
        "new_layout = np.array([1] * 70 + [0] * 930)\n",
        "\n",
        "\n",
        "successes=[old_layout.sum(),new_layout.sum()]\n",
        "nobs=[len(old_layout),len(new_layout)]\n",
        "z_stat,p_value=proportions_ztest(successes,nobs,alternative='smaller')\n",
        "print(f\"Z-statistic: {z_stat}\")\n",
        "print(f\"P-value: {p_value}\")\n",
        "\n",
        "# Define the significance level (alpha)\n",
        "alpha = 0.05\n",
        "\n",
        "# Compare p-value to alpha to determine significance\n",
        "if p_value < alpha:\n",
        "    print(\"Reject the null hypothesis. The new layout leads to a higher conversion rate.\")\n",
        "else:\n",
        "    print(\"Fail to reject the null hypothesis. There is no significant difference in conversion rates.\")\n"
      ],
      "metadata": {
        "colab": {
          "base_uri": "https://localhost:8080/"
        },
        "id": "4sDJX8nBKKsn",
        "outputId": "3325f8b9-e522-4e62-e9a6-f7218a2cc8d7"
      },
      "execution_count": 3,
      "outputs": [
        {
          "output_type": "stream",
          "name": "stdout",
          "text": [
            "Z-statistic: -1.883108942886774\n",
            "P-value: 0.029842802766213112\n",
            "Reject the null hypothesis. The new layout leads to a higher conversion rate.\n"
          ]
        }
      ]
    },
    {
      "cell_type": "markdown",
      "source": [
        " 12.\n",
        " A tutoring service claims that its program improves students' exam scores. A sample of students who\n",
        "participated in the program was taken, and their scores before and after the program were recorded.\n",
        " Use the below code to generate samples of respective arrays of marks:\n",
        " ```python\n",
        " before_program = np.array([75, 80, 85, 70, 90, 78, 92, 88, 82, 87])\n",
        " after_program = np.array([80, 85, 90, 80, 92, 80, 95, 90, 85, 88])\n",
        " ```\n",
        " Use z-test to find if the claims made by tutor are true or false"
      ],
      "metadata": {
        "id": "PBPNf1dCMpIN"
      }
    },
    {
      "cell_type": "code",
      "source": [
        "before_program = np.array([75, 80, 85, 70, 90, 78, 92, 88, 82, 87])\n",
        "after_program = np.array([80, 85, 90, 80, 92, 80, 95, 90, 85, 88])\n",
        "\n",
        "import numpy as np\n",
        "from statsmodels.stats.weightstats import ztest\n",
        "diff=after_program-before_program\n",
        "z_stat,p_value=ztest(diff,value=0,alternative='larger')\n",
        "print(f\"Z-statistic: {z_stat}\")\n",
        "print(f\"P-value: {p_value}\")"
      ],
      "metadata": {
        "colab": {
          "base_uri": "https://localhost:8080/"
        },
        "id": "kogLjyIgLy5H",
        "outputId": "be5542b8-0711-42a8-fa46-ee46f4c4ea77"
      },
      "execution_count": 5,
      "outputs": [
        {
          "output_type": "stream",
          "name": "stdout",
          "text": [
            "Z-statistic: 4.593190894944668\n",
            "P-value: 2.182597052671683e-06\n"
          ]
        }
      ]
    },
    {
      "cell_type": "code",
      "source": [
        "print(f\"Z-statistic: {z_stat}\")\n",
        "print(f\"P-value: {p_value}\")\n",
        "\n",
        "# Define the significance level (alpha)\n",
        "alpha = 0.05\n",
        "\n",
        "# Compare p-value to alpha to determine significance\n",
        "if p_value < alpha:\n",
        "    print(\"Reject the null hypothesis. The tutoring program significantly improves exam scores.\")\n",
        "else:\n",
        "    print(\"Fail to reject the null hypothesis. There is no significant evidence to support the tutoring service's claim.\")"
      ],
      "metadata": {
        "colab": {
          "base_uri": "https://localhost:8080/"
        },
        "id": "UpyAt6vvLy1o",
        "outputId": "b09c821d-aba3-4a79-c6df-1660a9538df1"
      },
      "execution_count": 6,
      "outputs": [
        {
          "output_type": "stream",
          "name": "stdout",
          "text": [
            "Z-statistic: 4.593190894944668\n",
            "P-value: 2.182597052671683e-06\n",
            "Reject the null hypothesis. The tutoring program significantly improves exam scores.\n"
          ]
        }
      ]
    },
    {
      "cell_type": "markdown",
      "source": [
        "13.A pharmaceutical company wants to determine if a new drug is effective in reducing blood pressure. They\n",
        "conduct a study and record blood pressure measurements before and after administering the drug.\n",
        " Use the below code to generate samples of respective arrays of blood pressure:\n",
        " ```python\n",
        " before_drug = np.array([145, 150, 140, 135, 155, 160, 152, 148, 130, 138])\n",
        " after_drug = np.array([130, 140, 132, 128, 145, 148, 138, 136, 125, 130])\n",
        " ```\n",
        " Implement z-test to find if the drug really works or not"
      ],
      "metadata": {
        "id": "741HzZVeQ0dF"
      }
    },
    {
      "cell_type": "code",
      "source": [
        "import numpy as np\n",
        "from statsmodels.stats.weightstats import ztest\n",
        "before_drug = np.array([145, 150, 140, 135, 155, 160, 152, 148, 130, 138])\n",
        "after_drug = np.array([130, 140, 132, 128, 145, 148, 138, 136, 125, 130])\n",
        "diff=before_drug-after_drug\n",
        "z_stat,p_value=ztest(diff,value=0,alternative='larger')\n",
        "print(f'z-statistcs:{z_stat}')\n",
        "print(f'pvalue:{p_value}')\n",
        "alpha=0.05\n",
        "if p_value < alpha:\n",
        "  print('reject the null hypothesis. this drug is effective in reducing blood pressure')\n",
        "else:\n",
        "  print('fail to reject the null hypothesis.this drug is not effective in reducing blood pressure')"
      ],
      "metadata": {
        "colab": {
          "base_uri": "https://localhost:8080/"
        },
        "id": "_-RsIWg9PmTW",
        "outputId": "a21b98b8-a6d0-4716-d4cf-2eb51cec3a6e"
      },
      "execution_count": 11,
      "outputs": [
        {
          "output_type": "stream",
          "name": "stdout",
          "text": [
            "z-statistcs:10.04987562112089\n",
            "pvalue:4.599172203850128e-24\n",
            "reject the null hypothesis. this drug is effective in reducing blood pressure\n"
          ]
        }
      ]
    },
    {
      "cell_type": "markdown",
      "source": [
        " 14.A customer service department claims that their average response time is less than 5 minutes. A sample\n",
        "of recent customer interactions was taken, and the response times were recorded.\n",
        " Implement the below code to generate the array of response time:\n",
        " ```python\n",
        " response_times = np.array([4.3, 3.8, 5.1, 4.9, 4.7, 4.2, 5.2, 4.5, 4.6, 4.4])\n",
        " ```\n",
        " Implement z-test to find the claims made by customer service department are tru or false."
      ],
      "metadata": {
        "id": "Vf9n1hGlShD_"
      }
    },
    {
      "cell_type": "code",
      "source": [
        " response_times = np.array([4.3, 3.8, 5.1, 4.9, 4.7, 4.2, 5.2, 4.5, 4.6, 4.4])\n",
        " z_stat,p_value=ztest(response_times,value=5,alternative='larger')\n",
        " print(f'z-statistcs:{z_stat}')\n",
        " print(f'pvalue:{p_value}')\n",
        " alpha=0.05\n",
        " if p_value < alpha:\n",
        "  print('reject the null hypothesis. this customer service department is tru')\n",
        " else:\n",
        "  print('fail to reject the null hypothesis.this customer service department is false')"
      ],
      "metadata": {
        "colab": {
          "base_uri": "https://localhost:8080/"
        },
        "id": "ZbUnxj3RRu1D",
        "outputId": "ce959391-1cd9-4d21-e755-5df3f2b41e9a"
      },
      "execution_count": 14,
      "outputs": [
        {
          "output_type": "stream",
          "name": "stdout",
          "text": [
            "z-statistcs:-3.1844572260429627\n",
            "pvalue:0.9992748712886931\n",
            "fail to reject the null hypothesis.this customer service department is false\n"
          ]
        }
      ]
    },
    {
      "cell_type": "markdown",
      "source": [
        "15. A company is testing two different website layouts to see which one leads to higher click-through rates.\n",
        "Write a Python function to perform an A/B test analysis, including calculating the t-statistic, degrees of\n",
        "freedom, and p-value.\n",
        "\n",
        "\n",
        " Use the following data:\n",
        "\n",
        "\n",
        " ```python\n",
        "\n",
        "\n",
        " layout_a_clicks = [28, 32, 33, 29, 31, 34, 30, 35, 36, 37]\n",
        "\n",
        "\n",
        " layout_b_clicks = [40, 41, 38, 42, 39, 44, 43, 41, 45, 47]"
      ],
      "metadata": {
        "id": "RJJpdaIrTBr1"
      }
    },
    {
      "cell_type": "code",
      "source": [
        "import numpy as np\n",
        "from scipy import stats\n",
        "\n",
        "def ab_test(a_click,b_click ):\n",
        "  t_statistics,p_value=stats.ttest_ind(a_click,b_click)\n",
        "  dof=len(a_click)+len(b_click)-2\n",
        "  return t_statistics,dof,p_value"
      ],
      "metadata": {
        "id": "b1rZopThS3gK"
      },
      "execution_count": 17,
      "outputs": []
    },
    {
      "cell_type": "code",
      "source": [
        "layout_a_clicks = [28, 32, 33, 29, 31, 34, 30, 35, 36, 37]\n",
        "\n",
        "layout_b_clicks = [40, 41, 38, 42, 39, 44, 43, 41, 45, 47]\n",
        "t_statsistics,dof,p_vlaue=ab_test(layout_a_clicks,layout_b_clicks)\n",
        "print(f't-statistics:{t_statsistics}')\n",
        "print(f'degrees of freedom:{dof}')\n",
        "print(f'p-value:{p_vlaue}')"
      ],
      "metadata": {
        "colab": {
          "base_uri": "https://localhost:8080/"
        },
        "id": "EWml8cvcUn_L",
        "outputId": "07e559eb-6b2e-42b4-a4fd-c399e49be719"
      },
      "execution_count": 18,
      "outputs": [
        {
          "output_type": "stream",
          "name": "stdout",
          "text": [
            "t-statistics:-7.298102156175071\n",
            "degrees of freedom:18\n",
            "p-value:8.833437608301987e-07\n"
          ]
        }
      ]
    },
    {
      "cell_type": "code",
      "source": [],
      "metadata": {
        "id": "3qXBMFdnU4ZM"
      },
      "execution_count": null,
      "outputs": []
    },
    {
      "cell_type": "markdown",
      "source": [
        " 16.A pharmaceutical company wants to determine if a new drug is more effective than an existing drug in\n",
        "reducing cholesterol levels. Create a program to analyze the clinical trial data and calculate the t\n",
        "Use the following data of cholestrol level:\n",
        " ```python\n",
        "\n",
        "\n",
        " existing_drug_levels = [180, 182, 175, 185, 178, 176, 172, 184, 179, 183]\n",
        "\n",
        "\n",
        " new_drug_levels = [170, 172, 165, 168, 175, 173, 170, 178, 172, 176]"
      ],
      "metadata": {
        "id": "bvntVggvU8lU"
      }
    },
    {
      "cell_type": "code",
      "source": [
        "import numpy as np\n",
        "from scipy import stats\n",
        "\n",
        "def compare_drugs(existing_drug_levels, new_drug_levels):\n",
        "  \"\"\"\n",
        "  Compares the effectiveness of two drugs using a t-test.\n",
        "\n",
        "  Args:\n",
        "    existing_drug_levels: A list of cholesterol levels for patients using the existing drug.\n",
        "    new_drug_levels: A list of cholesterol levels for patients using the new drug.\n",
        "\n",
        "  Returns:\n",
        "    A tuple containing the t-statistic and p-value.\n",
        "  \"\"\"\n",
        "  t_statistic, p_value = stats.ttest_ind(existing_drug_levels, new_drug_levels)\n",
        "  return t_statistic, p_value\n",
        "\n",
        "# Clinical trial data\n",
        "existing_drug_levels = [180, 182, 175, 185, 178, 176, 172, 184, 179, 183]\n",
        "new_drug_levels = [170, 172, 165, 168, 175, 173, 170, 178, 172, 176]\n",
        "\n",
        "# Perform the t-test\n",
        "t_statistic, p_value = compare_drugs(existing_drug_levels, new_drug_levels)\n",
        "\n",
        "# Print the results\n",
        "print(f\"T-statistic: {t_statistic}\")\n",
        "print(f\"P-value: {p_value}\")\n",
        "\n",
        "# Interpret the results (assuming alpha = 0.05)\n",
        "alpha = 0.05\n",
        "if p_value < alpha:\n",
        "    print(\"Reject the null hypothesis. The new drug is significantly more effective.\")\n",
        "else:\n",
        "    print(\"Fail to reject the null hypothesis. There is no significant difference in effectiveness.\")"
      ],
      "metadata": {
        "colab": {
          "base_uri": "https://localhost:8080/"
        },
        "id": "B_HnDzi5VDU4",
        "outputId": "6dd7004e-672b-44b3-f588-b2d91912a743"
      },
      "execution_count": 19,
      "outputs": [
        {
          "output_type": "stream",
          "name": "stdout",
          "text": [
            "T-statistic: 4.14048098620866\n",
            "P-value: 0.0006143398442372505\n",
            "Reject the null hypothesis. The new drug is significantly more effective.\n"
          ]
        }
      ]
    },
    {
      "cell_type": "markdown",
      "source": [
        "17.A school district introduces an educational intervention program to improve math scores. Write a Python\n",
        "function to analyze pre- and post-intervention test scores, calculating the t-statistic and p-value to\n",
        "determine if the intervention had a significant impact.\n",
        " Use the following data of test score:\n",
        " ```python\n",
        "\n",
        "\n",
        " pre_intervention_scores = [80, 85, 90, 75, 88, 82, 92, 78, 85, 87]\n",
        "\n",
        "\n",
        " post_intervention_scores = [90, 92, 88, 92, 95, 91, 96, 93, 89, 93]"
      ],
      "metadata": {
        "id": "H9EfP7bmWFtO"
      }
    },
    {
      "cell_type": "code",
      "source": [
        "def analyze_intervention(pre_intervention,post_intervention):\n",
        "  t_statistic,p_value=stats.ttest_rel(pre_intervention,post_intervention)\n",
        "  return t_statistic,p_value\n"
      ],
      "metadata": {
        "id": "s2ON2Em_VMtl"
      },
      "execution_count": 20,
      "outputs": []
    },
    {
      "cell_type": "code",
      "source": [
        "pre_intervention_scores = [80, 85, 90, 75, 88, 82, 92, 78, 85, 87]\n",
        "\n",
        "post_intervention_scores = [90, 92, 88, 92, 95, 91, 96, 93, 89, 93]\n",
        "t_statistics,p_value=analyze_intervention(pre_intervention_scores,post_intervention_scores)\n",
        "print(f't-statistics:{t_statistics}')\n",
        "print(f'p-value:{p_value}')\n",
        "aplha=0.05\n",
        "if p_value<alpha:\n",
        "  print('reject the null hypothesis. this intervention had a significant impact')\n",
        "else:\n",
        "  print('fail to reject the null hypothesis.')\n"
      ],
      "metadata": {
        "colab": {
          "base_uri": "https://localhost:8080/"
        },
        "id": "ZW9PEDUdXCQL",
        "outputId": "d846d8a7-b17e-415c-9598-33fb127b2fea"
      },
      "execution_count": 22,
      "outputs": [
        {
          "output_type": "stream",
          "name": "stdout",
          "text": [
            "t-statistics:-4.42840883965761\n",
            "p-value:0.0016509548165795493\n",
            "reject the null hypothesis. this intervention had a significant impact\n"
          ]
        }
      ]
    },
    {
      "cell_type": "markdown",
      "source": [
        "18.An HR department wants to investigate if there's a gender-based salary gap within the company. Develop\n",
        "a program to analyze salary data, calculate the t-statistic, and determine if there's a statistically\n",
        "significant difference between the average salaries of male and female employees.\n",
        " Use the below code to generate synthetic data:\n",
        "\n",
        "\n",
        "\n",
        " # Generate synthetic salary data for male and female employees\n",
        "\n",
        "\n",
        " np.random.seed(0)  # For reproducibility\n",
        "\n",
        "\n",
        " male_salaries = np.random.normal(loc=50000, scale=10000, size=20)\n",
        "\n",
        "\n",
        " female_salaries = np.random.normal(loc=55000, scale=9000, size=20)"
      ],
      "metadata": {
        "id": "TKaBtDobXbmP"
      }
    },
    {
      "cell_type": "code",
      "source": [
        "import numpy as np\n",
        "from scipy import stats\n",
        "\n",
        "def analyze_salary_gap(male_salaries, female_salaries):\n",
        "\n",
        "  t_statistic, p_value = stats.ttest_ind(male_salaries, female_salaries)\n",
        "  return t_statistic, p_value\n",
        "\n",
        "# Generate synthetic salary data\n",
        "np.random.seed(0)\n",
        "male_salaries = np.random.normal(loc=50000, scale=10000, size=20)\n",
        "female_salaries = np.random.normal(loc=55000, scale=9000, size=20)\n",
        "\n",
        "# Perform the analysis\n",
        "t_statistic, p_value = analyze_salary_gap(male_salaries, female_salaries)\n",
        "\n",
        "# Print the results\n",
        "print(f\"T-statistic: {t_statistic}\")\n",
        "print(f\"P-value: {p_value}\")\n",
        "\n",
        "# Interpret the results (assuming alpha = 0.05)\n",
        "alpha = 0.05\n",
        "if p_value < alpha:\n",
        "    print(\"Reject the null hypothesis. There is a statistically significant salary gap.\")\n",
        "else:\n",
        "    print(\"Fail to reject the null hypothesis. There is no significant evidence of a salary gap.\")"
      ],
      "metadata": {
        "colab": {
          "base_uri": "https://localhost:8080/"
        },
        "id": "m2m2bF1vXVxm",
        "outputId": "22406ad8-8627-404a-dc31-7a3c1ada9f90"
      },
      "execution_count": 23,
      "outputs": [
        {
          "output_type": "stream",
          "name": "stdout",
          "text": [
            "T-statistic: 0.06114208969631383\n",
            "P-value: 0.9515665020676465\n",
            "Fail to reject the null hypothesis. There is no significant evidence of a salary gap.\n"
          ]
        }
      ]
    },
    {
      "cell_type": "markdown",
      "source": [
        " 19.A manufacturer produces two different versions of a product and wants to compare their quality scores.\n",
        "Create a Python function to analyze quality assessment data, calculate the t-statistic, and decide\n",
        "whether there's a significant difference in quality between the two versions.\n",
        " Use the following data:\n",
        " ```python\n",
        "\n",
        "\n",
        " version1_scores = [85, 88, 82, 89, 87, 84, 90, 88, 85, 86, 91, 83, 87, 84, 89, 86, 84, 88, 85, 86, 89, 90, 87, 88, 85]\n",
        "\n",
        "\n",
        " version2_scores = [80, 78, 83, 81, 79, 82, 76, 80, 78, 81, 77, 82, 80, 79, 82, 79, 80, 81, 79, 82, 79, 78, 80, 81, 82]"
      ],
      "metadata": {
        "id": "3x478ul0YJZE"
      }
    },
    {
      "cell_type": "code",
      "source": [
        "import numpy as np\n",
        "from scipy import stats\n",
        "\n",
        "def compare_product_versions(version1_scores, version2_scores):\n",
        "\n",
        "    t_statistic, p_value = stats.ttest_ind(version1_scores, version2_scores)\n",
        "    return t_statistic, p_value\n",
        "\n",
        "# Quality assessment data\n",
        "version1_scores = [85, 88, 82, 89, 87, 84, 90, 88, 85, 86, 91, 83, 87, 84, 89, 86, 84, 88, 85, 86, 89, 90, 87, 88, 85]\n",
        "version2_scores = [80, 78, 83, 81, 79, 82, 76, 80, 78, 81, 77, 82, 80, 79, 82, 79, 80, 81, 79, 82, 79, 78, 80, 81, 82]\n",
        "\n",
        "# Perform the analysis\n",
        "t_statistic, p_value = compare_product_versions(version1_scores, version2_scores)\n",
        "\n",
        "# Print the results\n",
        "print(f\"T-statistic: {t_statistic}\")\n",
        "print(f\"P-value: {p_value}\")\n",
        "\n",
        "# Interpret the results (assuming alpha = 0.05)\n",
        "alpha = 0.05\n",
        "if p_value < alpha:\n",
        "    print(\"Reject the null hypothesis. There is a significant difference in quality.\")\n",
        "else:\n",
        "    print(\"Fail to reject the null hypothesis. There is no significant difference in quality.\")"
      ],
      "metadata": {
        "colab": {
          "base_uri": "https://localhost:8080/"
        },
        "id": "JKXpny-BYD65",
        "outputId": "d07a8bf4-3129-41b9-ef35-40b75a1e564c"
      },
      "execution_count": 24,
      "outputs": [
        {
          "output_type": "stream",
          "name": "stdout",
          "text": [
            "T-statistic: 11.325830417646698\n",
            "P-value: 3.6824250702873965e-15\n",
            "Reject the null hypothesis. There is a significant difference in quality.\n"
          ]
        }
      ]
    },
    {
      "cell_type": "markdown",
      "source": [
        "20. A restaurant chain collects customer satisfaction scores for two different branches. Write a program to\n",
        "analyze the scores, calculate the t-statistic, and determine if there's a statistically significant difference in\n",
        "customer satisfaction between the branches.\n",
        " Use the below data of scores:\n",
        "\n",
        "\n",
        "\n",
        " branch_a_scores = [4, 5, 3, 4, 5, 4, 5, 3, 4, 4, 5, 4, 4, 3, 4, 5, 5, 4, 3, 4, 5, 4, 3, 5, 4, 4, 5, 3, 4, 5, 4]\n",
        "\n",
        "\n",
        " branch_b_scores = [3, 4, 2, 3, 4, 3, 4, 2, 3, 3, 4, 3, 3, 2, 3, 4, 4, 3, 2, 3, 4, 3, 2, 4, 3, 3, 4, 2, 3, 4, 3]"
      ],
      "metadata": {
        "id": "PRgMnR3NYg6v"
      }
    },
    {
      "cell_type": "code",
      "source": [
        "import numpy as np\n",
        "from scipy import stats\n",
        "\n",
        "def compare_customer_satisfaction(branch_a_scores, branch_b_scores):\n",
        "\n",
        "\n",
        "    t_statistic, p_value = stats.ttest_ind(branch_a_scores, branch_b_scores)\n",
        "    return t_statistic, p_value\n",
        "\n",
        "# Customer satisfaction scores\n",
        "branch_a_scores = [4, 5, 3, 4, 5, 4, 5, 3, 4, 4, 5, 4, 4, 3, 4, 5, 5, 4, 3, 4, 5, 4, 3, 5, 4, 4, 5, 3, 4, 5, 4]\n",
        "branch_b_scores = [3, 4, 2, 3, 4, 3, 4, 2, 3, 3, 4, 3, 3, 2, 3, 4, 4, 3, 2, 3, 4, 3, 2, 4, 3, 3, 4, 2, 3, 4, 3]\n",
        "\n",
        "# Perform the analysis\n",
        "t_statistic, p_value = compare_customer_satisfaction(branch_a_scores, branch_b_scores)\n",
        "\n",
        "# Print the results\n",
        "print(f\"T-statistic: {t_statistic}\")\n",
        "print(f\"P-value: {p_value}\")\n",
        "\n",
        "# Interpret the results (assuming alpha = 0.05)\n",
        "alpha = 0.05\n",
        "if p_value < alpha:\n",
        "    print(\"Reject the null hypothesis. There is a significant difference in customer satisfaction.\")\n",
        "else:\n",
        "    print(\"Fail to reject the null hypothesis. There is no significant difference in customer satisfaction.\")"
      ],
      "metadata": {
        "colab": {
          "base_uri": "https://localhost:8080/"
        },
        "id": "L8Yt3wvJYd_m",
        "outputId": "f6d03965-0ffd-4ad5-b546-0ef4bf4b42ea"
      },
      "execution_count": 25,
      "outputs": [
        {
          "output_type": "stream",
          "name": "stdout",
          "text": [
            "T-statistic: 5.480077554195743\n",
            "P-value: 8.895290509945655e-07\n",
            "Reject the null hypothesis. There is a significant difference in customer satisfaction.\n"
          ]
        }
      ]
    },
    {
      "cell_type": "markdown",
      "source": [
        "21. A political analyst wants to determine if there is a significant association between age groups and voter\n",
        "preferences (Candidate A or Candidate B). They collect data from a sample of 500 voters and classify\n",
        "them into different age groups and candidate preferences. Perform a Chi-Square test to determine if\n",
        "there is a significant association between age groups and voter preferences.\n",
        " Use the below code to generate data:\n",
        " ```python\n",
        " np.random.seed(0)\n",
        " age_groups = np.random.choice(['18-30', '31-50', '51+', '51+'], size=30)\n",
        " voter_preferences = np.random.choice(['Candidate A', 'Candidate B'], size=30)\n",
        "\n"
      ],
      "metadata": {
        "id": "RXqrVcIHZEuq"
      }
    },
    {
      "cell_type": "code",
      "source": [
        "import pandas as pd\n",
        "import numpy as np\n",
        "from scipy.stats import chi2_contingency\n",
        "def analyze_voter_preference(age_group,voter_group):\n",
        "  contingency_table=pd.crosstab(age_group,voter_group)\n",
        "  chi2_statistics,p_value,dof,expected_frequency=chi2_contingency(contingency_table)\n",
        "  return chi2_statistics,p_value,dof,expected_frequency"
      ],
      "metadata": {
        "id": "YqpZ1FiaZCfs"
      },
      "execution_count": 37,
      "outputs": []
    },
    {
      "cell_type": "code",
      "source": [
        "\n",
        " np.random.seed(0)\n",
        " age_groups = np.random.choice(['18-30', '31-50', '51+', '51+'], size=30)\n",
        " voter_preferences = np.random.choice(['Candidate A', 'Candidate B'], size=30)\n",
        " chi2_statistics,p_value,degree_of_freedom,chi2_frequency=analyze_voter_preference(age_groups,voter_preferences)\n",
        " print(f'chi2_statistics:{chi2_statistics}')\n",
        " print(f'p_value:{p_value}')\n",
        " print(f'degree_of_freedom:{degree_of_freedom}')\n",
        " print(f'chi2_frequency:{chi2_frequency}')\n",
        " alpha=0.05\n",
        " if p_value<alpha:\n",
        "  print('reject the null hypothesis. there is a significant association between age groups and voter preferences')\n",
        " else:\n",
        "  print('fail to reject the null hypothesis. there is no significant association between age groups and voter preferences')"
      ],
      "metadata": {
        "colab": {
          "base_uri": "https://localhost:8080/"
        },
        "id": "2l8iZKMPZ_bS",
        "outputId": "e69f9067-f190-41bc-e699-1c578adf55b6"
      },
      "execution_count": 38,
      "outputs": [
        {
          "output_type": "stream",
          "name": "stdout",
          "text": [
            "chi2_statistics:1.086807928913192\n",
            "p_value:0.5807679703526951\n",
            "degree_of_freedom:2\n",
            "chi2_frequency:[[2.93333333 5.06666667]\n",
            " [2.93333333 5.06666667]\n",
            " [5.13333333 8.86666667]]\n",
            "fail to reject the null hypothesis. there is no significant association between age groups and voter preferences\n"
          ]
        }
      ]
    },
    {
      "cell_type": "markdown",
      "source": [
        "22. A company conducted a customer satisfaction survey to determine if there is a significant relationship\n",
        "between product satisfaction levels (Satisfied, Neutral, Dissatisfied) and the region where customers are\n",
        "located (East, West, North, South). The survey data is summarized in a contingency table. Conduct a Chi\n",
        "Square test to determine if there is a significant relationship between product satisfaction levels and\n",
        "customer regions.\n",
        " Sample data:\n",
        " ```python\n",
        " ```\n",
        " #Sample data: Product satisfaction levels (rows) vs. Customer regions (columns)\n",
        " data = np.array([[50, 30, 40, 20], [30, 40, 30, 50], [20, 30, 40, 30]])"
      ],
      "metadata": {
        "id": "FFvuLO-xa1vS"
      }
    },
    {
      "cell_type": "code",
      "source": [
        "import numpy as np\n",
        "from scipy.stats import chi2_contingency\n",
        "\n",
        "def analyze_customer_satisfaction(data):\n",
        "\n",
        "\n",
        "  # Perform the Chi-Square test\n",
        "  chi2_statistic, p_value, degrees_of_freedom, expected_frequencies = chi2_contingency(data)\n",
        "\n",
        "  return chi2_statistic, p_value, degrees_of_freedom, expected_frequencies\n",
        "\n",
        "# Sample data (contingency table)\n",
        "data = np.array([[50, 30, 40, 20], [30, 40, 30, 50], [20, 30, 40, 30]])\n",
        "\n",
        "# Perform the analysis\n",
        "chi2_statistic, p_value, degrees_of_freedom, expected_frequencies = analyze_customer_satisfaction(data)\n",
        "\n",
        "# Print the results\n",
        "print(f\"Chi-Square Statistic: {chi2_statistic}\")\n",
        "print(f\"P-value: {p_value}\")\n",
        "print(f\"Degrees of Freedom: {degrees_of_freedom}\")\n",
        "# print(f\"Expected Frequencies: \\n{expected_frequencies}\")  # Uncomment to print expected frequencies\n",
        "\n",
        "# Interpret the results (assuming alpha = 0.05)\n",
        "alpha = 0.05\n",
        "if p_value < alpha:\n",
        "    print(\"Reject the null hypothesis. There is a significant relationship between product satisfaction and customer region.\")\n",
        "else:\n",
        "    print(\"Fail to reject the null hypothesis. There is no significant relationship between product satisfaction and customer region.\")"
      ],
      "metadata": {
        "colab": {
          "base_uri": "https://localhost:8080/"
        },
        "id": "28dZlyfPaRTv",
        "outputId": "c7a40f34-2188-4940-ee28-3a8873919673"
      },
      "execution_count": 39,
      "outputs": [
        {
          "output_type": "stream",
          "name": "stdout",
          "text": [
            "Chi-Square Statistic: 27.777056277056275\n",
            "P-value: 0.00010349448486004387\n",
            "Degrees of Freedom: 6\n",
            "Reject the null hypothesis. There is a significant relationship between product satisfaction and customer region.\n"
          ]
        }
      ]
    },
    {
      "cell_type": "markdown",
      "source": [
        "23.A company implemented an employee training program to improve job performance (Effective, Neutral,\n",
        "Ineffective). After the training, they collected data from a sample of employees and classified them based\n",
        "on their job performance before and after the training. Perform a Chi-Square test to determine if there is a\n",
        "significant difference between job performance levels before and after the training.\n",
        " Sample data:\n",
        " ```python\n",
        " data = np.array([[50, 30, 20], [30, 40, 30], [20, 30, 40]])\n",
        " ```\n",
        " Sample data: Job performance levels before (rows) and after (columns) trainin"
      ],
      "metadata": {
        "id": "7W5ws0QnbkPo"
      }
    },
    {
      "cell_type": "code",
      "source": [
        "import numpy as np\n",
        "from scipy.stats import chi2_contingency\n",
        "\n",
        "def analyze_training_impact(data):\n",
        "\n",
        "    chi2_statistic, p_value, degrees_of_freedom, expected_frequencies = chi2_contingency(data)\n",
        "    return chi2_statistic, p_value, degrees_of_freedom, expected_frequencies\n",
        "\n",
        "# Sample data (contingency table)\n",
        "data = np.array([[50, 30, 20], [30, 40, 30], [20, 30, 40]])  #Job performance levels before (rows) vs after (columns)\n",
        "\n",
        "# Perform the analysis\n",
        "chi2_statistic, p_value, degrees_of_freedom, expected_frequencies = analyze_training_impact(data)\n",
        "\n",
        "# Print the results\n",
        "print(f\"Chi-Square Statistic: {chi2_statistic}\")\n",
        "print(f\"P-value: {p_value}\")\n",
        "print(f\"Degrees of Freedom: {degrees_of_freedom}\")\n",
        "# print(f\"Expected Frequencies: \\n{expected_frequencies}\")  # Uncomment to print expected frequencies\n",
        "\n",
        "# Interpret the results (assuming alpha = 0.05)\n",
        "\n",
        "alpha = 0.05\n",
        "if p_value < alpha:\n",
        "    print(\"Reject the null hypothesis. There is a significant difference in job performance before and after training.\")\n",
        "else:\n",
        "    print(\"Fail to reject the null hypothesis. There is no significant difference in job performance before and after training.\")"
      ],
      "metadata": {
        "colab": {
          "base_uri": "https://localhost:8080/"
        },
        "id": "BjxwFzJZbllt",
        "outputId": "aca14733-9135-4c14-bafa-50f47426f7d6"
      },
      "execution_count": 41,
      "outputs": [
        {
          "output_type": "stream",
          "name": "stdout",
          "text": [
            "Chi-Square Statistic: 22.161728395061726\n",
            "P-value: 0.00018609719479882557\n",
            "Degrees of Freedom: 4\n",
            "Reject the null hypothesis. There is a significant difference in job performance before and after training.\n"
          ]
        }
      ]
    },
    {
      "cell_type": "markdown",
      "source": [
        " 24.A company produces three different versions of a product: Standard, Premium, and Deluxe. The\n",
        "company wants to determine if there is a significant difference in customer satisfaction scores among the\n",
        "three product versions. They conducted a survey and collected customer satisfaction scores for each\n",
        "version from a random sample of customers. Perform an ANOVA test to determine if there is a significant\n",
        "difference in customer satisfaction scores.\n",
        " Use the following data:\n",
        " ```python\n",
        "  Sample data: Customer satisfaction scores for each product version\n",
        "\n",
        "\n",
        " standard_scores = [80, 85, 90, 78, 88, 82, 92, 78, 85, 87]\n",
        "\n",
        " premium_scores = [90, 92, 88, 92, 95, 91, 96, 93, 89, 93]\n",
        "\n",
        "\n",
        " deluxe_scores = [95, 98, 92, 97, 96, 94, 98, 97, 92, 99]\n",
        ""
      ],
      "metadata": {
        "id": "HaE1l68Yb2t9"
      }
    },
    {
      "cell_type": "code",
      "source": [
        "import numpy as np\n",
        "from scipy import stats\n",
        "\n",
        "def compare_product_satisfaction(standard_scores, premium_scores, deluxe_scores):\n",
        "\n",
        "    f_statistic, p_value = stats.f_oneway(standard_scores, premium_scores, deluxe_scores)\n",
        "    return f_statistic, p_value\n",
        "\n",
        "# Customer satisfaction scores\n",
        "standard_scores = [80, 85, 90, 78, 88, 82, 92, 78, 85, 87]\n",
        "premium_scores = [90, 92, 88, 92, 95, 91, 96, 93, 89, 93]\n",
        "deluxe_scores = [95, 98, 92, 97, 96, 94, 98, 97, 92, 99]\n",
        "\n",
        "# Perform the ANOVA test\n",
        "f_statistic, p_value = compare_product_satisfaction(standard_scores, premium_scores, deluxe_scores)\n",
        "\n",
        "# Print the results\n",
        "print(f\"F-statistic: {f_statistic}\")\n",
        "print(f\"P-value: {p_value}\")\n",
        "\n",
        "# Interpret the results (assuming alpha = 0.05)\n",
        "alpha = 0.05\n",
        "if p_value < alpha:\n",
        "    print(\"Reject the null hypothesis. There is a significant difference in customer satisfaction scores among the product versions.\")\n",
        "else:\n",
        "    print(\"Fail to reject the null hypothesis. There is no significant difference in customer satisfaction scores among the product versions.\")"
      ],
      "metadata": {
        "colab": {
          "base_uri": "https://localhost:8080/"
        },
        "id": "z1JzjIU_b1u5",
        "outputId": "415bac70-f591-4816-f9a7-2b68187b5b7e"
      },
      "execution_count": 42,
      "outputs": [
        {
          "output_type": "stream",
          "name": "stdout",
          "text": [
            "F-statistic: 27.03556231003039\n",
            "P-value: 3.5786328857349003e-07\n",
            "Reject the null hypothesis. There is a significant difference in customer satisfaction scores among the product versions.\n"
          ]
        }
      ]
    },
    {
      "cell_type": "code",
      "source": [],
      "metadata": {
        "id": "0n-ESbBvcVTX"
      },
      "execution_count": null,
      "outputs": []
    }
  ]
}